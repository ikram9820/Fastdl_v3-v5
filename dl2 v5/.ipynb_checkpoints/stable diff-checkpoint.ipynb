{
 "cells": [
  {
   "cell_type": "code",
   "execution_count": null,
   "metadata": {},
   "outputs": [],
   "source": [
    "import diffuser"
   ]
  },
  {
   "cell_type": "code",
   "execution_count": 1,
   "metadata": {},
   "outputs": [
    {
     "name": "stdout",
     "output_type": "stream",
     "text": [
      "\u001b[33mWARNING: Retrying (Retry(total=4, connect=None, read=None, redirect=None, status=None)) after connection broken by 'NewConnectionError('<pip._vendor.urllib3.connection.HTTPSConnection object at 0x7f75003f6df0>: Failed to establish a new connection: [Errno 101] Network is unreachable')': /simple/diffusers/\u001b[0m\n",
      "\u001b[33mWARNING: Retrying (Retry(total=3, connect=None, read=None, redirect=None, status=None)) after connection broken by 'NewConnectionError('<pip._vendor.urllib3.connection.HTTPSConnection object at 0x7f75003f6c70>: Failed to establish a new connection: [Errno 101] Network is unreachable')': /simple/diffusers/\u001b[0m\n",
      "\u001b[33mWARNING: Retrying (Retry(total=2, connect=None, read=None, redirect=None, status=None)) after connection broken by 'NewConnectionError('<pip._vendor.urllib3.connection.HTTPSConnection object at 0x7f75003f68b0>: Failed to establish a new connection: [Errno 101] Network is unreachable')': /simple/diffusers/\u001b[0m\n",
      "\u001b[33mWARNING: Retrying (Retry(total=1, connect=None, read=None, redirect=None, status=None)) after connection broken by 'NewConnectionError('<pip._vendor.urllib3.connection.HTTPSConnection object at 0x7f75003fd730>: Failed to establish a new connection: [Errno 101] Network is unreachable')': /simple/diffusers/\u001b[0m\n",
      "\u001b[33mWARNING: Retrying (Retry(total=0, connect=None, read=None, redirect=None, status=None)) after connection broken by 'NewConnectionError('<pip._vendor.urllib3.connection.HTTPSConnection object at 0x7f75003fd940>: Failed to establish a new connection: [Errno 101] Network is unreachable')': /simple/diffusers/\u001b[0m\n",
      "\u001b[31mERROR: Could not find a version that satisfies the requirement diffusers (from versions: none)\u001b[0m\n",
      "\u001b[31mERROR: No matching distribution found for diffusers\u001b[0m\n"
     ]
    }
   ],
   "source": [
    "!pip install -Uq diffusers transformers fastcore"
   ]
  },
  {
   "cell_type": "code",
   "execution_count": null,
   "metadata": {},
   "outputs": [],
   "source": []
  }
 ],
 "metadata": {
  "kernelspec": {
   "display_name": "Python 3 (ipykernel)",
   "language": "python",
   "name": "python3"
  },
  "language_info": {
   "codemirror_mode": {
    "name": "ipython",
    "version": 3
   },
   "file_extension": ".py",
   "mimetype": "text/x-python",
   "name": "python",
   "nbconvert_exporter": "python",
   "pygments_lexer": "ipython3",
   "version": "3.9.12"
  },
  "vscode": {
   "interpreter": {
    "hash": "e317f94b6b73150e99c62b97d7df0975be5503f6547aa49064c1cbbd5b7022bf"
   }
  }
 },
 "nbformat": 4,
 "nbformat_minor": 2
}
